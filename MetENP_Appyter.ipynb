{
 "cells": [
  {
   "cell_type": "code",
   "execution_count": 1,
   "id": "active-license",
   "metadata": {},
   "outputs": [],
   "source": [
    "#%%appyter init\n",
    "from appyter import magic\n",
    "magic.init(lambda _=globals: _())"
   ]
  },
  {
   "cell_type": "markdown",
   "id": "swiss-virtue",
   "metadata": {},
   "source": [
    "### Load all necessary packages"
   ]
  },
  {
   "cell_type": "code",
   "execution_count": 2,
   "id": "affecting-replica",
   "metadata": {},
   "outputs": [
    {
     "name": "stdout",
     "output_type": "stream",
     "text": [
      "[1] \"/usr/lib64/R/library\"           \"/usr/share/R/library\"          \n",
      "[3] \"/home/sumana/appyters/MetENP/R\"\n"
     ]
    },
    {
     "data": {
      "text/plain": [
       "''"
      ]
     },
     "execution_count": 2,
     "metadata": {},
     "output_type": "execute_result"
    }
   ],
   "source": [
    "import rpy2\n",
    "import rpy2.robjects as robjects\n",
    "import rpy2.robjects.packages as rpackages\n",
    "\n",
    "from rpy2.robjects import numpy2ri, pandas2ri\n",
    "\n",
    "import rpy2.ipython.html\n",
    "rpy2.ipython.html.init_printing()\n",
    "\n",
    "import rpy2.robjects.lib.ggplot2 as gp\n",
    "from rpy2.ipython.ggplot import image_png\n",
    "\n",
    "from rpy2.rinterface_lib import openrlib\n",
    "\n",
    "robjects.r('''\n",
    "\n",
    "## add the full path to folder inside which MetENP R package is installed; relative path may not work\n",
    "\n",
    ".libPaths( c( .libPaths(), \"/home/sumana/appyters/MetENP/R\" ))\n",
    "\n",
    "##.libPaths( c( .libPaths(), \"/var/www/html/appyters/MetENP/R\" ))\n",
    "\n",
    "print(.libPaths())\n",
    "''')\n",
    ";"
   ]
  },
  {
   "cell_type": "code",
   "execution_count": 3,
   "id": "scheduled-occasion",
   "metadata": {},
   "outputs": [
    {
     "data": {
      "text/markdown": [
       "```python\n",
       "import pandas as pd\n",
       "from io import StringIO\n",
       "_formatter = robjects.r('''\n",
       "install.packages(\"dplyr\")\n",
       "function (X) {\n",
       "  return (\n",
       "    format_tsv(\n",
       "      as.data.frame(apply(X, c(1,2), function(x) {\n",
       "        unlist(x, TRUE, TRUE)\n",
       "      }))\n",
       "    )\n",
       "  )\n",
       "}\n",
       "''')\n",
       "def as_df(data, index_col=None):\n",
       "    return pd.read_csv(StringIO(_formatter(data)[0]), sep='\\t', index_col=index_col)\n",
       "```"
      ],
      "text/plain": [
       "<IPython.core.display.Markdown object>"
      ]
     },
     "metadata": {},
     "output_type": "display_data"
    }
   ],
   "source": [
    "%%appyter hide_code \n",
    "\n",
    "import pandas as pd\n",
    "from io import StringIO\n",
    "\n",
    "\n",
    "_formatter = robjects.r('''\n",
    "install.packages(\"dplyr\")\n",
    "function (X) {\n",
    "  return (\n",
    "    format_tsv(\n",
    "      as.data.frame(apply(X, c(1,2), function(x) {\n",
    "        unlist(x, TRUE, TRUE)\n",
    "      }))\n",
    "    )\n",
    "  )\n",
    "}\n",
    "''')\n",
    "def as_df(data, index_col=None):\n",
    "    return pd.read_csv(StringIO(_formatter(data)[0]), sep='\\t', index_col=index_col)"
   ]
  },
  {
   "cell_type": "code",
   "execution_count": 4,
   "id": "offshore-wrestling",
   "metadata": {},
   "outputs": [],
   "source": [
    "from rpy2.robjects.packages import importr\n",
    "metenp = importr('MetENP')"
   ]
  },
  {
   "cell_type": "code",
   "execution_count": 5,
   "id": "sharp-salem",
   "metadata": {},
   "outputs": [],
   "source": [
    "%%appyter hide_code\n",
    "{% do SectionField(\n",
    "    name='INPUT',\n",
    "    title='Input the Study, Factors and Analysis type Information',\n",
    "    subtitle='Specify your study here',\n",
    "    img='upload_icon.png',\n",
    ")%}\n",
    "{% do SectionField(\n",
    "    name='SIGM',\n",
    "    title='Find Significant Metabolites',\n",
    "    subtitle='Run significance of all the analysis summary together',\n",
    "    img='vol.png',\n",
    ")%}\n",
    "{% do SectionField(\n",
    "    name='COUNTCLASS',\n",
    "    title='Count Metabolites by Class',\n",
    "    subtitle='Count the metabolites of each class',\n",
    "    img='bar.png',\n",
    ")%}\n",
    "{% do SectionField(\n",
    "    name='ENRICH',\n",
    "    title='Enrichment Score by Class',\n",
    "    subtitle='Calculate the enrichment score of each metabolite class',\n",
    "    img='enrich.png',\n",
    ")%}\n",
    "{% do SectionField(\n",
    "    name='HEAT',\n",
    "    title='Heatmap',\n",
    "    subtitle='Heatmap of metabolites x enriched pathways',\n",
    "    img='heat.png',\n",
    ")%}\n",
    "{% do SectionField(\n",
    "    name='DOT',\n",
    "    title='Dotplot',\n",
    "    subtitle='Plot a dotplot of enrichment by class',\n",
    "    img='dot.png',\n",
    ")%}\n"
   ]
  },
  {
   "cell_type": "code",
   "execution_count": 6,
   "metadata": {},
   "outputs": [
    {
     "data": {
      "text/markdown": [
       "```python\n",
       "\n",
       "print(\"Study ID:\", \"ST000915\")\n",
       "```"
      ],
      "text/plain": [
       "<IPython.core.display.Markdown object>"
      ]
     },
     "metadata": {},
     "output_type": "display_data"
    },
    {
     "name": "stdout",
     "output_type": "stream",
     "text": [
      "Study ID: ST000915\n"
     ]
    }
   ],
   "source": [
    "%%appyter code_exec\n",
    "\n",
    "{% set study = MetabolomicsStudyField(\n",
    "    name='study',\n",
    "    label='Study Information',\n",
    "    description = \"Resolve the factors and analysis type for the study\",\n",
    "    default={'study_id': 'ST000915', 'fac1': 'Cirrhosis', 'fac2': 'Normal', 'anal': 'Core G Fatty acids/Eicosanoids', 'faccol': 'Diagnosis' },\n",
    "    section='INPUT',\n",
    ") \n",
    "\n",
    "%}\n",
    "\n",
    "print(\"Study ID:\", {{study.value.study_id|jsonify}})\n"
   ]
  },
  {
   "cell_type": "code",
   "execution_count": 133,
   "id": "after-essay",
   "metadata": {},
   "outputs": [],
   "source": [
    "%%appyter hide_code \n",
    "\n",
    "{% set studyOrg = StringField(name='studyOrg', label='KEGG Organism Code', description = \"hsa for human, mmu for mouse, eco for E. coli, rno for rat. See https://www.genome.jp/kegg/catalog/org_list.html for all organisms\", default='hsa', section='INPUT') %}"
   ]
  },
  {
   "cell_type": "code",
   "execution_count": 134,
   "id": "individual-lounge",
   "metadata": {},
   "outputs": [],
   "source": [
    "%%appyter hide_code\n",
    "\n",
    "{% set classtype = MultiChoiceField(\n",
    "    name='classtype',\n",
    "    label='Choose a Metabolite Class',\n",
    "    description='Choose between sub_class, main_class and super_class',\n",
    "    default=[\n",
    "        'sub_class',\n",
    "    ],\n",
    "    choices=[\n",
    "        'sub_class',\n",
    "        'main_class',\n",
    "        'super_class',\n",
    "    ],\n",
    "    section='INPUT'\n",
    ") %}"
   ]
  },
  {
   "cell_type": "markdown",
   "id": "gentle-diving",
   "metadata": {},
   "source": [
    "### Start data processing\n",
    "\n",
    "### Gets metabolomics data, metadata and metabolite info from Metabolomics Workbench using REST service"
   ]
  },
  {
   "cell_type": "code",
   "execution_count": 135,
   "id": "spread-diagnosis",
   "metadata": {},
   "outputs": [
    {
     "data": {
      "text/markdown": [
       "```python\n",
       "data_1 = robjects.r['getmwstudies'](\"ST000915\",\n",
       "    'data'\n",
       ")\n",
       "```"
      ],
      "text/plain": [
       "<IPython.core.display.Markdown object>"
      ]
     },
     "metadata": {},
     "output_type": "display_data"
    }
   ],
   "source": [
    "%%appyter code_exec\n",
    "\n",
    "data_1 = robjects.r['getmwstudies']({{study.value.study_id|jsonify}}, \n",
    "    'data'\n",
    ")"
   ]
  },
  {
   "cell_type": "code",
   "execution_count": 136,
   "id": "arranged-wallpaper",
   "metadata": {},
   "outputs": [
    {
     "data": {
      "text/markdown": [
       "```python\n",
       "data_1 = metenp.getmwstudies(\"ST000915\", 'data')\n",
       "as_df(data_1, index_col=[0, 1, 2, 3, 4])\n",
       "```"
      ],
      "text/plain": [
       "<IPython.core.display.Markdown object>"
      ]
     },
     "metadata": {},
     "output_type": "display_data"
    }
   ],
   "source": [
    "%%appyter hide_code\n",
    "\n",
    "data_1 = metenp.getmwstudies({{study.value.study_id|jsonify}}, 'data')\n",
    "as_df(data_1, index_col=[0, 1, 2, 3, 4])"
   ]
  },
  {
   "cell_type": "code",
   "execution_count": 137,
   "id": "short-guess",
   "metadata": {},
   "outputs": [],
   "source": [
    "with openrlib.rlock:\n",
    "    \n",
    "    robjects.r.assign('data_1', data_1)\n",
    "    \n",
    "    robjects.r('''\n",
    "\n",
    "    data_1_print = data.frame(apply(data_1, c(1,2), function(x){unlist(x, TRUE, TRUE)}))\n",
    "    head(data_1_print)\n",
    "\n",
    "    ''')\n",
    "    \n",
    "    pass"
   ]
  },
  {
   "cell_type": "markdown",
   "id": "respective-donor",
   "metadata": {},
   "source": [
    "### Gets metabolomics data, metadata and metabolite info from Metabolomics Workbench using REST service"
   ]
  },
  {
   "cell_type": "code",
   "execution_count": 138,
   "id": "color-reducing",
   "metadata": {},
   "outputs": [
    {
     "data": {
      "text/markdown": [
       "```python\n",
       "metadata = robjects.r['getmwstudies'](\"ST000915\",\n",
       "    'factors'\n",
       ")\n",
       "```"
      ],
      "text/plain": [
       "<IPython.core.display.Markdown object>"
      ]
     },
     "metadata": {},
     "output_type": "display_data"
    }
   ],
   "source": [
    "%%appyter code_exec\n",
    "\n",
    "metadata = robjects.r['getmwstudies']({{study.value.study_id|jsonify}}, \n",
    "    'factors'\n",
    ")\n"
   ]
  },
  {
   "cell_type": "code",
   "execution_count": 139,
   "id": "political-railway",
   "metadata": {},
   "outputs": [
    {
     "data": {
      "text/html": [
       "\n",
       "<emph>DataFrame</emph> with 6 rows and\n",
       "  5 columns:\n",
       "<table class=\"rpy2_table\">\n",
       "  <thead>\n",
       "    <tr class=\"rpy2_names\">\n",
       "      <th></th>\n",
       "      <th></th>\n",
       "      <th>study_id</th>\n",
       "      <th>local_sample_id</th>\n",
       "      <th>subject_type</th>\n",
       "      <th>factors</th>\n",
       "      <th>Diagnosis</th>\n",
       "    </tr>\n",
       "  </thead>\n",
       "  <tbody>\n",
       "    <tr>\n",
       "      <td class=\"rpy2_rowname\">0</td>\n",
       "        <td class=\"rpy2_names\">1</td>\n",
       "      <td>ST000915</td>\n",
       "      <td>NASH005</td>\n",
       "      <td>Human clinical study</td>\n",
       "      <td>Diagnosis:Cirrhosis</td>\n",
       "      <td>Cirrhosis</td>\n",
       "    </tr>\n",
       "    <tr>\n",
       "      <td class=\"rpy2_rowname\">1</td>\n",
       "        <td class=\"rpy2_names\">2</td>\n",
       "      <td>ST000915</td>\n",
       "      <td>NASH007</td>\n",
       "      <td>Human clinical study</td>\n",
       "      <td>Diagnosis:Cirrhosis</td>\n",
       "      <td>Cirrhosis</td>\n",
       "    </tr>\n",
       "    <tr>\n",
       "      <td class=\"rpy2_rowname\">2</td>\n",
       "        <td class=\"rpy2_names\">3</td>\n",
       "      <td>ST000915</td>\n",
       "      <td>NASH009</td>\n",
       "      <td>Human clinical study</td>\n",
       "      <td>Diagnosis:Cirrhosis</td>\n",
       "      <td>Cirrhosis</td>\n",
       "    </tr>\n",
       "    <tr>\n",
       "      <td class=\"rpy2_rowname\">3</td>\n",
       "        <td class=\"rpy2_names\">4</td>\n",
       "      <td>ST000915</td>\n",
       "      <td>NASH013</td>\n",
       "      <td>Human clinical study</td>\n",
       "      <td>Diagnosis:Cirrhosis</td>\n",
       "      <td>Cirrhosis</td>\n",
       "    </tr>\n",
       "    <tr>\n",
       "      <td class=\"rpy2_rowname\">4</td>\n",
       "        <td class=\"rpy2_names\">5</td>\n",
       "      <td>ST000915</td>\n",
       "      <td>NASH016</td>\n",
       "      <td>Human clinical study</td>\n",
       "      <td>Diagnosis:Cirrhosis</td>\n",
       "      <td>Cirrhosis</td>\n",
       "    </tr>\n",
       "    <tr>\n",
       "      <td class=\"rpy2_rowname\">5</td>\n",
       "        <td class=\"rpy2_names\">6</td>\n",
       "      <td>ST000915</td>\n",
       "      <td>NASH022</td>\n",
       "      <td>Human clinical study</td>\n",
       "      <td>Diagnosis:Cirrhosis</td>\n",
       "      <td>Cirrhosis</td>\n",
       "    </tr>\n",
       "  </tbody>\n",
       "</table>"
      ],
      "text/plain": [
       "<rpy2.robjects.vectors.DataFrame object at 0x7fe880dafb80> [RTYPES.VECSXP]\n",
       "R classes: ('data.frame',)\n",
       "[StrSexp..., StrSexp..., StrSexp..., StrSexp..., StrSexp...]\n",
       "  study_id: <class 'rpy2.rinterface_lib.sexp.StrSexpVector'>\n",
       "  <rpy2.rinterface_lib.sexp.StrSexpVector object at 0x7fe87f31f980> [RTYPES.STRSXP]\n",
       "  local_sample_id: <class 'rpy2.rinterface_lib.sexp.StrSexpVector'>\n",
       "  <rpy2.rinterface_lib.sexp.StrSexpVector object at 0x7fe87f3c3740> [RTYPES.STRSXP]\n",
       "  subject_type: <class 'rpy2.rinterface_lib.sexp.StrSexpVector'>\n",
       "  <rpy2.rinterface_lib.sexp.StrSexpVector object at 0x7fe87f3c3800> [RTYPES.STRSXP]\n",
       "  factors: <class 'rpy2.rinterface_lib.sexp.StrSexpVector'>\n",
       "  <rpy2.rinterface_lib.sexp.StrSexpVector object at 0x7fe87f3c3a00> [RTYPES.STRSXP]\n",
       "  Diagnosis: <class 'rpy2.rinterface_lib.sexp.StrSexpVector'>\n",
       "  <rpy2.rinterface_lib.sexp.StrSexpVector object at 0x7fe87f3c3740> [RTYPES.STRSXP]"
      ]
     },
     "execution_count": 139,
     "metadata": {},
     "output_type": "execute_result"
    }
   ],
   "source": [
    "robjects.r.assign('metadata', metadata)\n",
    "\n",
    "robjects.r('''\n",
    "metadata_print = data.frame(apply(metadata, c(1,2), function(x){unlist(x, TRUE, TRUE)}))\n",
    "head(metadata_print)\n",
    "''')"
   ]
  },
  {
   "cell_type": "markdown",
   "id": "exceptional-reality",
   "metadata": {},
   "source": [
    "### Associate metabolomics data to the refmet class"
   ]
  },
  {
   "cell_type": "code",
   "execution_count": 140,
   "id": "continental-camping",
   "metadata": {},
   "outputs": [
    {
     "data": {
      "text/html": [
       "\n",
       "<emph>DataFrame</emph> with 6 rows and\n",
       "  97 columns:\n",
       "<table class=\"rpy2_table\">\n",
       "  <thead>\n",
       "    <tr class=\"rpy2_names\">\n",
       "      <th></th>\n",
       "      <th></th>\n",
       "      <th>metabolite_name</th>\n",
       "      <th>analysis_id</th>\n",
       "      <th>analysis_summary</th>\n",
       "      <th>metabolite_id</th>\n",
       "      <th>...</th>\n",
       "      <th>main_class</th>\n",
       "      <th>sub_class</th>\n",
       "    </tr>\n",
       "  </thead>\n",
       "  <tbody>\n",
       "    <tr>\n",
       "      <td class=\"rpy2_rowname\">0</td>\n",
       "        <td class=\"rpy2_names\">1</td>\n",
       "      <td>1,2-DG(30:0)</td>\n",
       "      <td>AN001488</td>\n",
       "      <td>Core E Neutral Lipids</td>\n",
       "      <td>ME231190</td>\n",
       "       <td>...</td>\n",
       "      <td>Diradylglycerols</td>\n",
       "      <td>DAG</td>\n",
       "    </tr>\n",
       "    <tr>\n",
       "      <td class=\"rpy2_rowname\">1</td>\n",
       "        <td class=\"rpy2_names\">2</td>\n",
       "      <td>1,2-DG(30:1)</td>\n",
       "      <td>AN001488</td>\n",
       "      <td>Core E Neutral Lipids</td>\n",
       "      <td>ME231189</td>\n",
       "       <td>...</td>\n",
       "      <td>Diradylglycerols</td>\n",
       "      <td>DAG</td>\n",
       "    </tr>\n",
       "    <tr>\n",
       "      <td class=\"rpy2_rowname\">2</td>\n",
       "        <td class=\"rpy2_names\">3</td>\n",
       "      <td>1,2-DG(32:0)</td>\n",
       "      <td>AN001488</td>\n",
       "      <td>Core E Neutral Lipids</td>\n",
       "      <td>ME231196</td>\n",
       "       <td>...</td>\n",
       "      <td>Diradylglycerols</td>\n",
       "      <td>DAG</td>\n",
       "    </tr>\n",
       "    <tr>\n",
       "      <td class=\"rpy2_rowname\">3</td>\n",
       "        <td class=\"rpy2_names\">4</td>\n",
       "      <td>1,2-DG(32:1)</td>\n",
       "      <td>AN001488</td>\n",
       "      <td>Core E Neutral Lipids</td>\n",
       "      <td>ME231195</td>\n",
       "       <td>...</td>\n",
       "      <td>Diradylglycerols</td>\n",
       "      <td>DAG</td>\n",
       "    </tr>\n",
       "    <tr>\n",
       "      <td class=\"rpy2_rowname\">4</td>\n",
       "        <td class=\"rpy2_names\">5</td>\n",
       "      <td>1,2-DG(32:2)</td>\n",
       "      <td>AN001488</td>\n",
       "      <td>Core E Neutral Lipids</td>\n",
       "      <td>ME231194</td>\n",
       "       <td>...</td>\n",
       "      <td>Diradylglycerols</td>\n",
       "      <td>DAG</td>\n",
       "    </tr>\n",
       "    <tr>\n",
       "      <td class=\"rpy2_rowname\">5</td>\n",
       "        <td class=\"rpy2_names\">6</td>\n",
       "      <td>1,2-DG(32:3)</td>\n",
       "      <td>AN001488</td>\n",
       "      <td>Core E Neutral Lipids</td>\n",
       "      <td>ME231193</td>\n",
       "       <td>...</td>\n",
       "      <td>Diradylglycerols</td>\n",
       "      <td>DAG</td>\n",
       "    </tr>\n",
       "  </tbody>\n",
       "</table>"
      ],
      "text/plain": [
       "<rpy2.robjects.vectors.DataFrame object at 0x7fe87f3235c0> [RTYPES.VECSXP]\n",
       "R classes: ('data.frame',)\n",
       "[StrSexpVe..., StrSexpVe..., StrSexpVe..., StrSexpVe..., ..., StrSexpVe..., StrSexpVe..., StrSexpVe..., StrSexpVe...]\n",
       "  metabolite_name: <class 'rpy2.robjects.vectors.StrVector'>\n",
       "  <rpy2.robjects.vectors.StrVector object at 0x7fe880c73540> [RTYPES.STRSXP]\n",
       "R classes: ('character',)\n",
       "['1,2-..., '1,2-..., '1,2-..., '1,2-..., '1,2-..., '1,2-...]\n",
       "  analysis_id: <class 'rpy2.robjects.vectors.StrVector'>\n",
       "  <rpy2.robjects.vectors.StrVector object at 0x7fe87f386500> [RTYPES.STRSXP]\n",
       "R classes: ('character',)\n",
       "['AN00..., 'AN00..., 'AN00..., 'AN00..., 'AN00..., 'AN00...]\n",
       "  analysis_summary: <class 'rpy2.robjects.vectors.StrVector'>\n",
       "  <rpy2.robjects.vectors.StrVector object at 0x7fe87f386f40> [RTYPES.STRSXP]\n",
       "R classes: ('character',)\n",
       "['Core..., 'Core..., 'Core..., 'Core..., 'Core..., 'Core...]\n",
       "  metabolite_id: <class 'rpy2.robjects.vectors.StrVector'>\n",
       "  <rpy2.robjects.vectors.StrVector object at 0x7fe87f3861c0> [RTYPES.STRSXP]\n",
       "R classes: ('character',)\n",
       "['ME23..., 'ME23..., 'ME23..., 'ME23..., 'ME23..., 'ME23...]\n",
       "...\n",
       "  NASH001: <class 'rpy2.robjects.vectors.StrVector'>\n",
       "  <rpy2.robjects.vectors.StrVector object at 0x7fe880c39ec0> [RTYPES.STRSXP]\n",
       "R classes: ('character',)\n",
       "['C33H..., 'C33H..., 'C35H..., 'C35H..., 'C35H..., 'C35H...]\n",
       "  NASH002: <class 'rpy2.robjects.vectors.StrVector'>\n",
       "  <rpy2.robjects.vectors.StrVector object at 0x7fe880c39200> [RTYPES.STRSXP]\n",
       "R classes: ('character',)\n",
       "['Glyc..., 'Glyc..., 'Glyc..., 'Glyc..., 'Glyc..., 'Glyc...]\n",
       "  NASH003: <class 'rpy2.robjects.vectors.StrVector'>\n",
       "  <rpy2.robjects.vectors.StrVector object at 0x7fe880c39e40> [RTYPES.STRSXP]\n",
       "R classes: ('character',)\n",
       "['Dira..., 'Dira..., 'Dira..., 'Dira..., 'Dira..., 'Dira...]\n",
       "  NASH004: <class 'rpy2.robjects.vectors.StrVector'>\n",
       "  <rpy2.robjects.vectors.StrVector object at 0x7fe880c42ec0> [RTYPES.STRSXP]\n",
       "R classes: ('character',)\n",
       "['DAG', 'DAG', 'DAG', 'DAG', 'DAG', 'DAG']"
      ]
     },
     "execution_count": 140,
     "metadata": {},
     "output_type": "execute_result"
    }
   ],
   "source": [
    "refmet_class = robjects.r['convert_refmet'](data_1)\n",
    "\n",
    "robjects.r.assign('refmet_class', refmet_class)\n",
    "\n",
    "robjects.r('''\n",
    "\n",
    "refmet_class_print = data.frame(apply(refmet_class, c(1,2), function(x){unlist(x, TRUE, TRUE)}))\n",
    "head(refmet_class_print)\n",
    "\n",
    "''')"
   ]
  },
  {
   "cell_type": "markdown",
   "id": "convinced-cycling",
   "metadata": {},
   "source": [
    "### This lists each unique metadata factor/independent variable"
   ]
  },
  {
   "cell_type": "code",
   "execution_count": 141,
   "id": "formal-estate",
   "metadata": {},
   "outputs": [
    {
     "data": {
      "text/html": [
       "\n",
       "<emph>DataFrame</emph> with 4 rows and\n",
       "  1 columns:\n",
       "<table class=\"rpy2_table\">\n",
       "  <thead>\n",
       "    <tr class=\"rpy2_names\">\n",
       "      <th></th>\n",
       "      <th></th>\n",
       "      <th>unique.metadata_print.factors.</th>\n",
       "    </tr>\n",
       "  </thead>\n",
       "  <tbody>\n",
       "    <tr>\n",
       "      <td class=\"rpy2_rowname\">0</td>\n",
       "        <td class=\"rpy2_names\">1</td>\n",
       "      <td>Diagnosis:Cirrhosis</td>\n",
       "    </tr>\n",
       "    <tr>\n",
       "      <td class=\"rpy2_rowname\">1</td>\n",
       "        <td class=\"rpy2_names\">2</td>\n",
       "      <td>Diagnosis:NASH</td>\n",
       "    </tr>\n",
       "    <tr>\n",
       "      <td class=\"rpy2_rowname\">2</td>\n",
       "        <td class=\"rpy2_names\">3</td>\n",
       "      <td>Diagnosis:Normal</td>\n",
       "    </tr>\n",
       "    <tr>\n",
       "      <td class=\"rpy2_rowname\">3</td>\n",
       "        <td class=\"rpy2_names\">4</td>\n",
       "      <td>Diagnosis:Steatosis</td>\n",
       "    </tr>\n",
       "  </tbody>\n",
       "</table>"
      ],
      "text/plain": [
       "<rpy2.robjects.vectors.DataFrame object at 0x7fe87f1dee00> [RTYPES.VECSXP]\n",
       "R classes: ('data.frame',)\n",
       "[StrSexpVector]\n",
       "  unique.metadata_print.factors.: <class 'rpy2.rinterface_lib.sexp.StrSexpVector'>\n",
       "  <rpy2.rinterface_lib.sexp.StrSexpVector object at 0x7fe87f357c80> [RTYPES.STRSXP]"
      ]
     },
     "execution_count": 141,
     "metadata": {},
     "output_type": "execute_result"
    }
   ],
   "source": [
    "robjects.r('''\n",
    "study_facs = data.frame(unique(metadata_print$factors))\n",
    "''')"
   ]
  },
  {
   "cell_type": "markdown",
   "id": "recreational-canadian",
   "metadata": {},
   "source": [
    "### This lists each different analysis terms"
   ]
  },
  {
   "cell_type": "code",
   "execution_count": 142,
   "id": "inclusive-incident",
   "metadata": {},
   "outputs": [
    {
     "data": {
      "text/html": [
       "\n",
       "<emph>DataFrame</emph> with 6 rows and\n",
       "  1 columns:\n",
       "<table class=\"rpy2_table\">\n",
       "  <thead>\n",
       "    <tr class=\"rpy2_names\">\n",
       "      <th></th>\n",
       "      <th></th>\n",
       "      <th>unique.data_1_print.analysis_summary.</th>\n",
       "    </tr>\n",
       "  </thead>\n",
       "  <tbody>\n",
       "    <tr>\n",
       "      <td class=\"rpy2_rowname\">0</td>\n",
       "        <td class=\"rpy2_names\">1</td>\n",
       "      <td>Core G Fatty acids/Eicosanoids</td>\n",
       "    </tr>\n",
       "    <tr>\n",
       "      <td class=\"rpy2_rowname\">1</td>\n",
       "        <td class=\"rpy2_names\">2</td>\n",
       "      <td>Core J Sterols</td>\n",
       "    </tr>\n",
       "    <tr>\n",
       "      <td class=\"rpy2_rowname\">2</td>\n",
       "        <td class=\"rpy2_names\">3</td>\n",
       "      <td>Core K Prenols/Cardiolipins</td>\n",
       "    </tr>\n",
       "    <tr>\n",
       "      <td class=\"rpy2_rowname\">3</td>\n",
       "        <td class=\"rpy2_names\">4</td>\n",
       "      <td>Core E Neutral Lipids</td>\n",
       "    </tr>\n",
       "    <tr>\n",
       "      <td class=\"rpy2_rowname\">4</td>\n",
       "        <td class=\"rpy2_names\">5</td>\n",
       "      <td>Core I Sphingolipids</td>\n",
       "    </tr>\n",
       "    <tr>\n",
       "      <td class=\"rpy2_rowname\">5</td>\n",
       "        <td class=\"rpy2_names\">6</td>\n",
       "      <td>Core H Phospholipids</td>\n",
       "    </tr>\n",
       "  </tbody>\n",
       "</table>"
      ],
      "text/plain": [
       "<rpy2.robjects.vectors.DataFrame object at 0x7fe87f398c00> [RTYPES.VECSXP]\n",
       "R classes: ('data.frame',)\n",
       "[StrSexpVector]\n",
       "  unique.data_1_print.analysis_summary.: <class 'rpy2.rinterface_lib.sexp.StrSexpVector'>\n",
       "  <rpy2.rinterface_lib.sexp.StrSexpVector object at 0x7fe87f386640> [RTYPES.STRSXP]"
      ]
     },
     "execution_count": 142,
     "metadata": {},
     "output_type": "execute_result"
    }
   ],
   "source": [
    "robjects.r('''\n",
    "study_anals = data.frame(unique(data_1_print$analysis_summary))\n",
    "''')"
   ]
  },
  {
   "cell_type": "markdown",
   "id": "accessible-administrator",
   "metadata": {},
   "source": [
    "### Here, find significant metabolites and the significance of all the analysis summary together. The analysis summary/modes you got in the previous section."
   ]
  },
  {
   "cell_type": "code",
   "execution_count": 143,
   "id": "false-magnet",
   "metadata": {},
   "outputs": [],
   "source": [
    "%%appyter hide_code\n",
    "\n",
    " \n",
    "   \n",
    "\n",
    "\n",
    "\n",
    "\n"
   ]
  },
  {
   "cell_type": "code",
   "execution_count": 144,
   "id": "otherwise-rochester",
   "metadata": {},
   "outputs": [],
   "source": [
    "%%appyter hide_code\n",
    "\n",
    "{% set normtype = MultiChoiceField(\n",
    "    name='normtype',\n",
    "    label='Select Type of Normalization. How would you like to handle missing data?',\n",
    "    description='Select 1. half_of_min: where the NAs are replaced by half of min values in the data, 2. remove_NAs: where Cols with NAs values are removed, or 3. 50percent: where cols with more than 50% NAs values are removed. half_of_min is ideal when you wish to see which metabolites were present in either group. Very high fold change would mean it was present in either group.',\n",
    "    default=[\n",
    "        '50percent',\n",
    "    ],\n",
    "    choices=[\n",
    "        'half_of_min',\n",
    "        'remove_NAs',\n",
    "        '50percent',\n",
    "    ],\n",
    "    section='SIGM'\n",
    ") %}\n"
   ]
  },
  {
   "cell_type": "code",
   "execution_count": 145,
   "id": "searching-quantum",
   "metadata": {},
   "outputs": [],
   "source": [
    "%%appyter hide_code\n",
    "\n",
    "{% set pthres = MultiChoiceField(\n",
    "    name='pthres',\n",
    "    label='P-Value Threshhold',\n",
    "    description='P-Value Threshhold for Volcano Plot. Float between 0 and 1.',\n",
    "    default=[\n",
    "        '0.05',\n",
    "    ],\n",
    "    choices=[\n",
    "        '0.001',\n",
    "        '0.002',\n",
    "        '0.005',\n",
    "        '0.01',\n",
    "        '0.02',\n",
    "        '0.05',\n",
    "        '0.10'\n",
    "    ],\n",
    "    section='SIGM'\n",
    ") %}\n"
   ]
  },
  {
   "cell_type": "code",
   "execution_count": 146,
   "id": "accepted-military",
   "metadata": {},
   "outputs": [
    {
     "data": {
      "text/markdown": [
       "```python\n",
       "#0.0, 0.5, 0.6, 0.8, 1, 1.2, 1.5, 2, 2.5, 3\n",
       "#TODO - don't do yet\n",
       "```"
      ],
      "text/plain": [
       "<IPython.core.display.Markdown object>"
      ]
     },
     "metadata": {},
     "output_type": "display_data"
    }
   ],
   "source": [
    "%%appyter hide_code\n",
    "\n",
    "#0.0, 0.5, 0.6, 0.8, 1, 1.2, 1.5, 2, 2.5, 3\n",
    "#TODO - don't do yet \n",
    "\n",
    "{% set thres_log2foldchange = StringField(\n",
    "    name = 'tres_log2foldchange',\n",
    "    label = 'Log2FoldChange Threshhold',\n",
    "    description= \"Log2FoldChange Threshhold for Volcano Plot.\",\n",
    "    default='0.5',\n",
    "    section='SIGM'\n",
    ") %}\n"
   ]
  },
  {
   "cell_type": "code",
   "execution_count": 147,
   "id": "intensive-ceramic",
   "metadata": {},
   "outputs": [],
   "source": [
    "%%appyter hide_code\n",
    "\n",
    "{% set padj = MultiChoiceField(\n",
    "    name='padj',\n",
    "    label='Select P Adjust Method',\n",
    "    description='P adjust method for significance analysis of metabolites',\n",
    "    default=[\n",
    "        'fdr',\n",
    "    ],\n",
    "    choices=[\n",
    "        'fdr',\n",
    "        'BH',\n",
    "        'holm',\n",
    "        'bonferroni',\n",
    "        'hochberg',\n",
    "        'hommel',\n",
    "    ],\n",
    "    section='SIGM'\n",
    ") %}"
   ]
  },
  {
   "cell_type": "code",
   "execution_count": 148,
   "id": "infinite-arthur",
   "metadata": {},
   "outputs": [
    {
     "data": {
      "text/markdown": [
       "```python\n",
       "robjects.r.assign('refmet_class', refmet_class)\n",
       "robjects.r.assign('metcol', 'metabolite_name')\n",
       "robjects.r.assign(\"fac1\", \"Cirrhosis\")\n",
       "robjects.r.assign(\"fac2\", \"Normal\")\n",
       "robjects.r.assign('faccol', 'Diagnosis')\n",
       "robjects.r.assign('samcol', 'local_sample_id')\n",
       "robjects.r.assign('normtype', ['50percent'])\n",
       "robjects.r.assign('pthres', ['0.05'])\n",
       "robjects.r.assign('thres_log2foldchangevar', '0.5')\n",
       "robjects.r.assign('padj', ['fdr'])\n",
       "```"
      ],
      "text/plain": [
       "<IPython.core.display.Markdown object>"
      ]
     },
     "metadata": {},
     "output_type": "display_data"
    },
    {
     "data": {
      "text/html": [
       "\n",
       "<emph>ListVector</emph> with 1 elements:\n",
       "<table class=\"rpy2_table\">\n",
       "<thead>\n",
       "</thead>\n",
       "<tbody>\n",
       "  <tr>\n",
       "    <td class=\"rpy2_rowname\">0</td>\n",
       "    <td>[1] \"fdr\"\n",
       "</td>\n",
       "  </tr>\n",
       "</tr>\n",
       "</tbody>\n",
       "</table>"
      ],
      "text/plain": [
       "<rpy2.robjects.vectors.ListVector object at 0x7fe87f386140> [RTYPES.VECSXP]\n",
       "R classes: ('list',)\n",
       "[StrSexpVector]\n",
       "  <no name>: <class 'rpy2.rinterface_lib.sexp.StrSexpVector'>\n",
       "  <rpy2.rinterface_lib.sexp.StrSexpVector object at 0x7fe880daf680> [RTYPES.STRSXP]"
      ]
     },
     "metadata": {},
     "output_type": "display_data"
    }
   ],
   "source": [
    "%%appyter code_eval\n",
    "\n",
    "robjects.r.assign('refmet_class', refmet_class)\n",
    "robjects.r.assign('metcol', 'metabolite_name')\n",
    "robjects.r.assign('fac1', {{study.value.fac1|jsonify}})\n",
    "robjects.r.assign('fac2', {{study.value.fac2|jsonify}})\n",
    "robjects.r.assign('faccol', {{study.value.faccol|jsonify}})\n",
    "robjects.r.assign('samcol', 'local_sample_id')\n",
    "robjects.r.assign('normtype', {{normtype}})\n",
    "robjects.r.assign('pthres', {{pthres}})\n",
    "robjects.r.assign('thres_log2foldchangevar', {{thres_log2foldchange}})\n",
    "robjects.r.assign('padj', {{padj}})"
   ]
  },
  {
   "cell_type": "code",
   "execution_count": 149,
   "id": "disturbed-mortgage",
   "metadata": {},
   "outputs": [
    {
     "data": {
      "text/plain": [
       "''"
      ]
     },
     "execution_count": 149,
     "metadata": {},
     "output_type": "execute_result"
    }
   ],
   "source": [
    "robjects.r('''\n",
    "ptreshnum<-as.numeric(pthres)\n",
    "thres_log2foldchangenum<-as.numeric(thres_log2foldchangevar)\n",
    "padjchar<-as.character(padj[1])\n",
    "''')\n",
    ";"
   ]
  },
  {
   "cell_type": "code",
   "execution_count": 150,
   "id": "human-bermuda",
   "metadata": {
    "scrolled": true
   },
   "outputs": [
    {
     "data": {
      "text/markdown": [
       "```python\n",
       "\n",
       "robjects.r.assign('anal',\"Core G Fatty acids/Eicosanoids\" )\n",
       "```"
      ],
      "text/plain": [
       "<IPython.core.display.Markdown object>"
      ]
     },
     "metadata": {},
     "output_type": "display_data"
    }
   ],
   "source": [
    "%%appyter code_exec\n",
    "\n",
    "robjects.r.assign('anal',{{study.value.anal|jsonify}} )\n",
    "\n"
   ]
  },
  {
   "cell_type": "markdown",
   "id": "executed-patient",
   "metadata": {},
   "source": [
    "### Find the log2fold change and p value on metabolomics data using a t-test. "
   ]
  },
  {
   "cell_type": "code",
   "execution_count": 151,
   "id": "utility-module",
   "metadata": {},
   "outputs": [
    {
     "data": {
      "text/plain": [
       "''"
      ]
     },
     "execution_count": 151,
     "metadata": {},
     "output_type": "execute_result"
    }
   ],
   "source": [
    "robjects.r('''\n",
    "analysis_type_sep = \"___\";\n",
    "anal_vec = trimws(unlist(strsplit(anal, analysis_type_sep)))\n",
    "print(anal_vec)\n",
    "stats_metabolites = significant_met(metabolomics_data=refmet_class_print, met_col='metabolite_name',analysis_type=anal_vec, metadata=metadata, factor1=fac1, factor2=fac2, factor_col=faccol,sample_col='local_sample_id', p_adjust=padjchar,normalization=normtype)\n",
    "''')\n",
    ";"
   ]
  },
  {
   "cell_type": "code",
   "execution_count": 152,
   "id": "tracked-madonna",
   "metadata": {},
   "outputs": [
    {
     "data": {
      "text/plain": [
       "''"
      ]
     },
     "execution_count": 152,
     "metadata": {},
     "output_type": "execute_result"
    }
   ],
   "source": [
    "robjects.r('''\n",
    "sig_metabolites = stats_metabolites[which(stats_metabolites[,\"pval\"] <= ptreshnum&abs(stats_metabolites[,\"log2Fold_change\"])>thres_log2foldchangenum),]\n",
    "''')\n",
    ";"
   ]
  },
  {
   "cell_type": "code",
   "execution_count": 153,
   "id": "durable-carolina",
   "metadata": {},
   "outputs": [
    {
     "data": {
      "image/png": "[encoded data removed]",
      "text/plain": [
       "<IPython.core.display.Image object>"
      ]
     },
     "execution_count": 153,
     "metadata": {},
     "output_type": "execute_result"
    }
   ],
   "source": [
    "image_png(robjects.r('''\n",
    "plot_volcano(stats_metabolites, thres_pval= ptreshnum, thres_log2foldchange = thres_log2foldchangenum, TRUE)\n",
    "'''))"
   ]
  },
  {
   "cell_type": "markdown",
   "id": "common-barrel",
   "metadata": {},
   "source": [
    "Each color describes a different metabolite group."
   ]
  },
  {
   "cell_type": "markdown",
   "id": "rough-thumbnail",
   "metadata": {},
   "source": [
    "### Map metabolite class of the significant metabolites utilzing refmet classification in Metabolomics Workbench\n",
    "This function not only maps metabolite to metabolite class but also to external databases such as pubchem, inchi key, smiles, and KEGG (if you chose to add in KEGG)."
   ]
  },
  {
   "cell_type": "code",
   "execution_count": 154,
   "id": "mathematical-audience",
   "metadata": {},
   "outputs": [],
   "source": [
    "with openrlib.rlock:\n",
    "    robjects.r('''\n",
    "    sig_metabolites_kegg_id= map_keggid(sig_metabolites)\n",
    "    ''')\n",
    "    pass"
   ]
  },
  {
   "cell_type": "markdown",
   "id": "sexual-grove",
   "metadata": {},
   "source": [
    "#### Check all your significant metabolites have not been assigned metabolite class\n",
    "Outcome should be 0 elements."
   ]
  },
  {
   "cell_type": "code",
   "execution_count": 155,
   "id": "mysterious-distinction",
   "metadata": {},
   "outputs": [
    {
     "data": {
      "text/html": [
       "\n",
       "<emph>StrVector</emph> with 0 elements:\n",
       "<table class=\"rpy2_table\">\n",
       "<thead>\n",
       "</thead>\n",
       "<tbody>\n",
       "<tr>\n",
       "</tr>\n",
       "</tbody>\n",
       "</table>"
      ],
      "text/plain": [
       "<rpy2.robjects.vectors.StrVector object at 0x7fe87f33d080> [RTYPES.STRSXP]\n",
       "R classes: ('character',)\n",
       "[]"
      ]
     },
     "execution_count": 155,
     "metadata": {},
     "output_type": "execute_result"
    }
   ],
   "source": [
    "robjects.r('''\n",
    "setdiff(sig_metabolites$refmet_name, sig_metabolites_kegg_id$refmet_name)\n",
    "''')"
   ]
  },
  {
   "cell_type": "markdown",
   "id": "spanish-progressive",
   "metadata": {},
   "source": [
    "### Count the number of metabolites in each of the metabolite classes and plot them with a bar graph"
   ]
  },
  {
   "cell_type": "code",
   "execution_count": 156,
   "id": "proved-vienna",
   "metadata": {},
   "outputs": [],
   "source": [
    "%%appyter hide_code\n",
    "\n",
    "{% set thres_log2foldchange_countclass = StringField(\n",
    "    name = 'thres_log2foldchange_countclass',\n",
    "    label = 'Log2FoldChange Threshhold for counting',\n",
    "    description= \"Log2FoldChange Threshhold for counting a metabolite in a class. Float between 0 and 1.\",\n",
    "    default='0.5',\n",
    "    section='COUNTCLASS'\n",
    ") %}"
   ]
  },
  {
   "cell_type": "code",
   "execution_count": 157,
   "id": "indoor-objective",
   "metadata": {},
   "outputs": [
    {
     "data": {
      "text/markdown": [
       "```python\n",
       "robjects.r.assign('classtype', ['sub_class'])\n",
       "robjects.r('''\n",
       "metclassvar <- as.character(classtype[1])\n",
       "count_changes = metcountplot(df_metclass=sig_metabolites_kegg_id, metclass=metclassvar, plotting=TRUE, thres_logfC = 0.5)\n",
       "''')\n",
       "```"
      ],
      "text/plain": [
       "<IPython.core.display.Markdown object>"
      ]
     },
     "metadata": {},
     "output_type": "display_data"
    }
   ],
   "source": [
    "%%appyter code_exec\n",
    "\n",
    "robjects.r.assign('classtype', {{classtype}})\n",
    "\n",
    "robjects.r.assign('thres_log2foldchange_countclass', {{thres_log2foldchange_countclass}})\n",
    "\n",
    "robjects.r('''\n",
    "metclassvar <- as.character(classtype[1])\n",
    "count_changes = metcountplot(df_metclass=sig_metabolites_kegg_id, metclass=metclassvar, plotting=TRUE, thres_logfC = thres_log2foldchange_countclass)\n",
    "''')"
   ]
  },
  {
   "cell_type": "code",
   "execution_count": 158,
   "id": "stunning-throat",
   "metadata": {},
   "outputs": [
    {
     "data": {
      "image/png": "[encoded data removed]",
      "text/plain": [
       "<IPython.core.display.Image object>"
      ]
     },
     "execution_count": 158,
     "metadata": {},
     "output_type": "execute_result"
    }
   ],
   "source": [
    "image_png(robjects.r('''\n",
    "count_changes$plotimg\n",
    "'''))"
   ]
  },
  {
   "cell_type": "markdown",
   "id": "super-consultancy",
   "metadata": {},
   "source": [
    "### Enrichment score (p-value) for metabolite classes\n",
    "\n",
    "Calculate the enrichment score (p-value) of each metabolite class. \n",
    "\n",
    "Enrichment score (p-value) is calculated through the hypergeometric method as described by Choudhary et al. [https://www.biorxiv.org/content/10.1101/2020.11.20.391912v1]."
   ]
  },
  {
   "cell_type": "code",
   "execution_count": 159,
   "id": "eight-landscape",
   "metadata": {},
   "outputs": [],
   "source": [
    "%%appyter hide_code\n",
    "\n",
    "{% set sigmets = IntField(\n",
    "    name = 'sigmets',\n",
    "    label = 'Minimum # of (most significant) metabolites needed in a class to include the class in enrichment.',\n",
    "    description= \"We advise to use the number of metabolites in each class as 3 or more. However, if you want to know the enrichment score for all the metabolites, choose 1.\",\n",
    "    default=3,\n",
    "    section = 'ENRICH'\n",
    ") %}"
   ]
  },
  {
   "cell_type": "code",
   "execution_count": 160,
   "id": "remarkable-mileage",
   "metadata": {},
   "outputs": [
    {
     "data": {
      "text/markdown": [
       "```python\n",
       "\n",
       "robjects.r.assign('sigmets', 3)\n",
       "```"
      ],
      "text/plain": [
       "<IPython.core.display.Markdown object>"
      ]
     },
     "metadata": {},
     "output_type": "display_data"
    },
    {
     "data": {
      "text/html": [
       "\n",
       "<emph>IntVector</emph> with 1 elements:\n",
       "<table class=\"rpy2_table\">\n",
       "<thead>\n",
       "</thead>\n",
       "<tbody>\n",
       "<tr>\n",
       "      <td>3</td>\n",
       "</tr>\n",
       "</tbody>\n",
       "</table>"
      ],
      "text/plain": [
       "<rpy2.robjects.vectors.IntVector object at 0x7fe87f3f1dc0> [RTYPES.INTSXP]\n",
       "R classes: ('integer',)\n",
       "[3]"
      ]
     },
     "metadata": {},
     "output_type": "display_data"
    }
   ],
   "source": [
    "%%appyter code_eval\n",
    "robjects.r.assign('sigmets', {{sigmets}})"
   ]
  },
  {
   "cell_type": "code",
   "execution_count": 161,
   "id": "thirty-senior",
   "metadata": {},
   "outputs": [
    {
     "data": {
      "text/plain": [
       "''"
      ]
     },
     "execution_count": 161,
     "metadata": {},
     "output_type": "execute_result"
    }
   ],
   "source": [
    "robjects.r('''\n",
    "metenrichment = metclassenrichment(df_metclass=sig_metabolites_kegg_id,refmet_class, metclass=metclassvar,enrich_stats=\"HG\",no=sigmets)\n",
    "''')\n",
    ";"
   ]
  },
  {
   "cell_type": "markdown",
   "id": "magnetic-earthquake",
   "metadata": {},
   "source": [
    "## Plot the enrichment score (p-value) via function plot_met_enrichment\n",
    "\n",
    "### If no figure shows here, or an error returns, this means no classes had enough significant metabolites. Decrease the minimum number of significant metabolites per class needed and reload/rerun the appyter program."
   ]
  },
  {
   "cell_type": "code",
   "execution_count": 162,
   "id": "oriented-budapest",
   "metadata": {},
   "outputs": [
    {
     "data": {
      "image/png": "[encoded data removed]",
      "text/plain": [
       "<IPython.core.display.Image object>"
      ]
     },
     "execution_count": 162,
     "metadata": {},
     "output_type": "execute_result"
    }
   ],
   "source": [
    "image_png(robjects.r('''\n",
    "plot_met_enrichment(metenrichment, metclassvar,\"HG\", no=sigmets)\n",
    "'''))"
   ]
  },
  {
   "cell_type": "markdown",
   "id": "confident-savage",
   "metadata": {},
   "source": [
    "### Check the pathways with reactions involving the significant metabolites"
   ]
  },
  {
   "cell_type": "code",
   "execution_count": 163,
   "id": "continuing-preview",
   "metadata": {},
   "outputs": [
    {
     "data": {
      "text/markdown": [
       "```python\n",
       "robjects.r.assign('studyOrg', 'hsa')\n",
       "robjects.r('''\n",
       "met_path = met_pathways(df_metenrichment = metenrichment, studyOrg)\n",
       "head(met_path)\n",
       "''')\n",
       "```"
      ],
      "text/plain": [
       "<IPython.core.display.Markdown object>"
      ]
     },
     "metadata": {},
     "output_type": "display_data"
    },
    {
     "name": "stdout",
     "output_type": "stream",
     "text": [
      "[1] \"res is not null\"\n"
     ]
    }
   ],
   "source": [
    "%%appyter code_exec\n",
    "\n",
    "robjects.r.assign('studyOrg', {{studyOrg}})\n",
    "\n",
    "robjects.r('''\n",
    "met_path = met_pathways(df_metenrichment = metenrichment, studyOrg)\n",
    "head(met_path)\n",
    "''')"
   ]
  },
  {
   "cell_type": "markdown",
   "id": "informative-communist",
   "metadata": {},
   "source": [
    "### Get pathway enrichment score (p-value).\n",
    "\n",
    "Once we have the pathway information, we can calculate enrichment score (p-value) of pathways using the hypergeometric scores for each pathway.\n",
    "\n",
    "For hypergeometric score, we need to know the total number of KEGG compounds that are linked to KEGG pathways. \n",
    "\n",
    "N = Total no. of compounds linked to KEGG pathway, \n",
    "L = No. of compounds in a pathway, \n",
    "M = No. of altered (significant) compounds in a pathway, \n",
    "K = Total no. of altered (significant) compounds. \n",
    "Then, \n",
    "score or p-value = phyper(M-1, L, N-L, K)\n",
    "\n",
    "This function also utilizes korg dataset from pathview package."
   ]
  },
  {
   "cell_type": "code",
   "execution_count": 164,
   "id": "reduced-building",
   "metadata": {},
   "outputs": [],
   "source": [
    "%%appyter hide_code\n",
    "\n",
    "{% set keggTF = MultiChoiceField(\n",
    "    name='keggTF',\n",
    "    label='Analysis with KEGG',\n",
    "    description='Would you like the enrichment analysis to include all KEGG pathways?',\n",
    "    default=[\n",
    "        'FALSE',\n",
    "    ],\n",
    "    choices=[\n",
    "        'TRUE',\n",
    "        'FALSE'\n",
    "    ],\n",
    "    section='ENRICH'\n",
    ") %}"
   ]
  },
  {
   "cell_type": "code",
   "execution_count": 165,
   "id": "animated-toolbox",
   "metadata": {
    "scrolled": false
   },
   "outputs": [
    {
     "data": {
      "text/markdown": [
       "```python\n",
       "robjects.r.assign('keggTF', ['FALSE'])\n",
       "robjects.r('''\n",
       "keggTFchar<-as.character(keggTF[1])\n",
       "''')\n",
       "```"
      ],
      "text/plain": [
       "<IPython.core.display.Markdown object>"
      ]
     },
     "metadata": {},
     "output_type": "display_data"
    }
   ],
   "source": [
    "%%appyter code_exec\n",
    "\n",
    "robjects.r.assign('keggTF', {{keggTF}})\n",
    "\n",
    "robjects.r('''\n",
    "keggTFchar<-as.character(keggTF[1])\n",
    "''')"
   ]
  },
  {
   "cell_type": "code",
   "execution_count": 166,
   "id": "bizarre-produce",
   "metadata": {},
   "outputs": [
    {
     "data": {
      "text/markdown": [
       "```python\n",
       "# ASK DANIEL about relative paths .. ./, etc\n",
       "#korgvar = \"home/sumana/appyters/MetENP/static/korg.RData\"\n",
       "#ls_pathvar = \"home/sumana/appyters/MetENP/static/ls_path.RData\"\n",
       "korgvar = \"static/korg.RData\"\n",
       "ls_pathvar = \"static/ls_path.RData\"\n",
       "robjects.r.assign('korgvar', korgvar)\n",
       "robjects.r.assign('ls_pathvar', ls_pathvar)\n",
       "```"
      ],
      "text/plain": [
       "<IPython.core.display.Markdown object>"
      ]
     },
     "metadata": {},
     "output_type": "display_data"
    }
   ],
   "source": [
    "%%appyter code_exec\n",
    "\n",
    "# relative paths do not work, exclude the starting / as it gets added automatically when appyter runs\n",
    "#korgvar = \"{{ url_for('home/sumana/appyters/MetENP/static', filename='korg.RData') }}\"\n",
    "#ls_pathvar = \"{{ url_for('home/sumana/appyters/MetENP/static', filename='ls_path.RData') }}\"\n",
    "\n",
    "korgvar = \"{{ url_for('var/www/html/appyters/MetENP/static', filename='korg.RData') }}\"\n",
    "ls_pathvar = \"{{ url_for('var/www/html/appyters/MetENP/static', filename='ls_path.RData') }}\"\n",
    "\n",
    "robjects.r.assign('korgvar', korgvar)\n",
    "robjects.r.assign('ls_pathvar', ls_pathvar)"
   ]
  },
  {
   "cell_type": "code",
   "execution_count": 167,
   "id": "persistent-dutch",
   "metadata": {},
   "outputs": [
    {
     "data": {
      "text/html": [
       "\n",
       "<emph>StrVector</emph> with 1 elements:\n",
       "<table class=\"rpy2_table\">\n",
       "<thead>\n",
       "</thead>\n",
       "<tbody>\n",
       "<tr>\n",
       "      <td>ls_path</td>\n",
       "</tr>\n",
       "</tbody>\n",
       "</table>"
      ],
      "text/plain": [
       "<rpy2.robjects.vectors.StrVector object at 0x7fe87f31f6c0> [RTYPES.STRSXP]\n",
       "R classes: ('character',)\n",
       "['ls_path']"
      ]
     },
     "execution_count": 167,
     "metadata": {},
     "output_type": "execute_result"
    }
   ],
   "source": [
    "robjects.r('''\n",
    "load(korgvar)\n",
    "load(ls_pathvar)\n",
    "''')"
   ]
  },
  {
   "cell_type": "code",
   "execution_count": 168,
   "id": "flying-bottle",
   "metadata": {},
   "outputs": [
    {
     "data": {
      "text/html": [
       "\n",
       "<emph>DataFrame</emph> with 1 rows and\n",
       "  5 columns:\n",
       "<table class=\"rpy2_table\">\n",
       "  <thead>\n",
       "    <tr class=\"rpy2_names\">\n",
       "      <th></th>\n",
       "      <th></th>\n",
       "      <th>Pathway name</th>\n",
       "      <th>No.of mets in study</th>\n",
       "      <th>Total_no._of_comps_in_pathway</th>\n",
       "      <th>pathway_HG p-value</th>\n",
       "      <th>Padjust</th>\n",
       "    </tr>\n",
       "  </thead>\n",
       "  <tbody>\n",
       "    <tr>\n",
       "      <td class=\"rpy2_rowname\">0</td>\n",
       "        <td class=\"rpy2_names\">1</td>\n",
       "      <td>Arachidonic acid metabolism</td>\n",
       "      <td>4</td>\n",
       "      <td>75</td>\n",
       "      <td>0.09097962231469853</td>\n",
       "      <td>0.09097962231469853</td>\n",
       "    </tr>\n",
       "  </tbody>\n",
       "</table>"
      ],
      "text/plain": [
       "<rpy2.robjects.vectors.DataFrame object at 0x7fe87f340e00> [RTYPES.VECSXP]\n",
       "R classes: ('data.frame',)\n",
       "[IntSexp..., IntSexp..., IntSexp..., FloatSe..., FloatSe...]\n",
       "  Pathway name: <class 'rpy2.rinterface.IntSexpVector'>\n",
       "  <rpy2.rinterface.IntSexpVector object at 0x7fe87f398a40> [RTYPES.INTSXP]\n",
       "  No.of mets in study: <class 'rpy2.rinterface.IntSexpVector'>\n",
       "  <rpy2.rinterface.IntSexpVector object at 0x7fe87f326680> [RTYPES.INTSXP]\n",
       "  Total_no._of_comps_in_pathway: <class 'rpy2.rinterface.IntSexpVector'>\n",
       "  <rpy2.rinterface.IntSexpVector object at 0x7fe87f326fc0> [RTYPES.INTSXP]\n",
       "  pathway_HG p-value: <class 'rpy2.rinterface.FloatSexpVector'>\n",
       "  <rpy2.rinterface.FloatSexpVector object at 0x7fe87f326740> [RTYPES.REALSXP]\n",
       "  Padjust: <class 'rpy2.rinterface.FloatSexpVector'>\n",
       "  <rpy2.rinterface.FloatSexpVector object at 0x7fe87f326fc0> [RTYPES.REALSXP]"
      ]
     },
     "execution_count": 168,
     "metadata": {},
     "output_type": "execute_result"
    }
   ],
   "source": [
    "robjects.r('''\n",
    "kegg_es = path_enrichmentscore(met_path,sig_metabolite_kegg_id=sig_metabolite_kegg_id,ls_path=ls_path,refmet_class=refmet_class,sps=studyOrg,padj=padjchar, kegg_comp_path=keggTFchar)\n",
    "head(kegg_es)\n",
    "''')"
   ]
  },
  {
   "cell_type": "markdown",
   "id": "seeing-driving",
   "metadata": {},
   "source": [
    "### Plot pathway network\n",
    "Only plotting significant pathways (pathways with >= the minimum number significant metabolites). There is no p-value or adjusted p-value threshold applied for the pathways.\n",
    "\n",
    "The pathway network is such that it shows metabolites that are connected to different pathways and same metabolite in different pathway. Color of nodes of metabolites are according to the fold change of metabolites (low expression in green and high in red) and size of pathway nodes (square nodes) are according to the number of branches (meaning no of metabolites). All metabolite are written in blue."
   ]
  },
  {
   "cell_type": "code",
   "execution_count": 169,
   "id": "blank-conservative",
   "metadata": {},
   "outputs": [
    {
     "data": {
      "image/png": "[encoded data removed]",
      "text/plain": [
       "<IPython.core.display.Image object>"
      ]
     },
     "execution_count": 169,
     "metadata": {},
     "output_type": "execute_result"
    }
   ],
   "source": [
    "image_png(robjects.r('''\n",
    "plot_pathway_networks (met_path,kegg_es, TRUE)\n",
    "'''))"
   ]
  },
  {
   "cell_type": "markdown",
   "id": "powered-break",
   "metadata": {},
   "source": [
    "### Heatmap"
   ]
  },
  {
   "cell_type": "code",
   "execution_count": 170,
   "id": "ecological-congo",
   "metadata": {},
   "outputs": [],
   "source": [
    "%%appyter hide_code\n",
    "\n",
    "{% set x_size_heat = IntField(\n",
    "    name = 'x_size_heat',\n",
    "    label = 'Font Size for X',\n",
    "    description= \"To change the size of the heatmap\",\n",
    "    default=8,\n",
    "    section = 'HEAT'\n",
    ") %}"
   ]
  },
  {
   "cell_type": "code",
   "execution_count": 171,
   "id": "obvious-prairie",
   "metadata": {},
   "outputs": [],
   "source": [
    "%%appyter hide_code\n",
    "\n",
    "{% set y_size_heat = IntField(\n",
    "    name = 'y_size_heat',\n",
    "    label = 'Font Size for Y',\n",
    "    description= \"To change the size of the heatmap\",\n",
    "    default=6,\n",
    "    section = 'HEAT'\n",
    ") %}"
   ]
  },
  {
   "cell_type": "code",
   "execution_count": 172,
   "id": "occupational-necklace",
   "metadata": {},
   "outputs": [
    {
     "data": {
      "text/markdown": [
       "```python\n",
       "robjects.r.assign('x_size_heat', 8)\n",
       "robjects.r.assign('y_size_heat', 6)\n",
       "```"
      ],
      "text/plain": [
       "<IPython.core.display.Markdown object>"
      ]
     },
     "metadata": {},
     "output_type": "display_data"
    }
   ],
   "source": [
    "%%appyter code_exec\n",
    "\n",
    "robjects.r.assign('x_size_heat', {{x_size_heat}})\n",
    "robjects.r.assign('y_size_heat', {{y_size_heat}})"
   ]
  },
  {
   "cell_type": "code",
   "execution_count": 173,
   "id": "given-documentation",
   "metadata": {},
   "outputs": [
    {
     "data": {
      "image/png": "[encoded data removed]",
      "text/plain": [
       "<IPython.core.display.Image object>"
      ]
     },
     "execution_count": 173,
     "metadata": {},
     "output_type": "execute_result"
    }
   ],
   "source": [
    "image_png(robjects.r('''\n",
    "plot_heatmap(met_path, shorten_name=TRUE,refmet_name=FALSE, xaxis=x_size_heat, yaxis=y_size_heat)\n",
    "'''))"
   ]
  },
  {
   "cell_type": "markdown",
   "id": "continuing-background",
   "metadata": {},
   "source": [
    "### Dotplot"
   ]
  },
  {
   "cell_type": "code",
   "execution_count": 174,
   "id": "published-logging",
   "metadata": {},
   "outputs": [],
   "source": [
    "%%appyter hide_code\n",
    "\n",
    "{% set x_size_dot = IntField(\n",
    "    name = 'x_size_dot',\n",
    "    label = 'Font Size for X',\n",
    "    description= \"To change the size of the dotplot\",\n",
    "    default=8,\n",
    "    section = 'DOT'\n",
    ") %}"
   ]
  },
  {
   "cell_type": "code",
   "execution_count": 175,
   "id": "differential-indication",
   "metadata": {},
   "outputs": [],
   "source": [
    "%%appyter hide_code\n",
    "\n",
    "{% set y_size_dot = IntField(\n",
    "    name = 'y_size_dot',\n",
    "    label = 'Font Size for Y',\n",
    "    description= \"To change the size of the dotplot\",\n",
    "    default=6,\n",
    "    section = 'DOT'\n",
    ") %}"
   ]
  },
  {
   "cell_type": "code",
   "execution_count": 176,
   "id": "express-difference",
   "metadata": {},
   "outputs": [
    {
     "data": {
      "text/markdown": [
       "```python\n",
       "robjects.r.assign('x_size_dot', 8)\n",
       "robjects.r.assign('y_size_dot', 6)\n",
       "```"
      ],
      "text/plain": [
       "<IPython.core.display.Markdown object>"
      ]
     },
     "metadata": {},
     "output_type": "display_data"
    }
   ],
   "source": [
    "%%appyter code_exec\n",
    "\n",
    "robjects.r.assign('x_size_dot', {{x_size_dot}})\n",
    "robjects.r.assign('y_size_dot', {{y_size_dot}})"
   ]
  },
  {
   "cell_type": "code",
   "execution_count": 177,
   "id": "republican-central",
   "metadata": {},
   "outputs": [
    {
     "data": {
      "image/png": "[encoded data removed]",
      "text/plain": [
       "<IPython.core.display.Image object>"
      ]
     },
     "execution_count": 177,
     "metadata": {},
     "output_type": "execute_result"
    }
   ],
   "source": [
    "image_png(robjects.r('''\n",
    "dotplot_met_class_path (met_path, kegg_es, metclassvar,xaxis=x_size_dot,yaxis=y_size_dot)\n",
    "'''))"
   ]
  },
  {
   "cell_type": "markdown",
   "id": "wooden-cycling",
   "metadata": {},
   "source": [
    "### Get the gene and enzyme info\n",
    "\n",
    "Here we get the information of genes involved in enriched pathways for specified organism using KEGG database."
   ]
  },
  {
   "cell_type": "code",
   "execution_count": 178,
   "id": "fifty-cologne",
   "metadata": {},
   "outputs": [
    {
     "data": {
      "text/html": [
       "\n",
       "<emph>DataFrame</emph> with 6 rows and\n",
       "  17 columns:\n",
       "<table class=\"rpy2_table\">\n",
       "  <thead>\n",
       "    <tr class=\"rpy2_names\">\n",
       "      <th></th>\n",
       "      <th></th>\n",
       "      <th>orthology_id</th>\n",
       "      <th>ORTHOLOGY</th>\n",
       "      <th>gene_id</th>\n",
       "      <th>gene_name</th>\n",
       "      <th>...</th>\n",
       "      <th>EQUATION_more</th>\n",
       "      <th>ENZYME</th>\n",
       "    </tr>\n",
       "  </thead>\n",
       "  <tbody>\n",
       "    <tr>\n",
       "      <td class=\"rpy2_rowname\">0</td>\n",
       "        <td class=\"rpy2_names\">1</td>\n",
       "      <td>K07418</td>\n",
       "      <td>cytochrome P450 family 2 subfamily J [EC:1.14.14.1 1.14.14.73 1.14.14.74 1.14.14.75]</td>\n",
       "      <td>   CDS \n",
       "\"1573\" \n",
       "</td>\n",
       "      <td>[1] \"(RefSeq) cytochrome P450 family 2 subfamily J member 2\"\n",
       "</td>\n",
       "       <td>...</td>\n",
       "      <td>[1] \"Arachidonate + Oxygen + NADPH + H+ <=> 11,12-EET + NADP+ + H2O\"\n",
       "</td>\n",
       "      <td>[1] \"1.14.14.1\" \"1.14.14.-\"\n",
       "</td>\n",
       "    </tr>\n",
       "    <tr>\n",
       "      <td class=\"rpy2_rowname\">1</td>\n",
       "        <td class=\"rpy2_names\">2</td>\n",
       "      <td>K07418</td>\n",
       "      <td>cytochrome P450 family 2 subfamily J [EC:1.14.14.1 1.14.14.73 1.14.14.74 1.14.14.75]</td>\n",
       "      <td>   CDS \n",
       "\"1573\" \n",
       "</td>\n",
       "      <td>[1] \"(RefSeq) cytochrome P450 family 2 subfamily J member 2\"\n",
       "</td>\n",
       "       <td>...</td>\n",
       "      <td>[1] \"Arachidonate + Oxygen + NADPH + H+ <=> 14,15-EET + NADP+ + H2O\"\n",
       "</td>\n",
       "      <td>[1] \"1.14.14.1\" \"1.14.14.-\"\n",
       "</td>\n",
       "    </tr>\n",
       "    <tr>\n",
       "      <td class=\"rpy2_rowname\">2</td>\n",
       "        <td class=\"rpy2_names\">3</td>\n",
       "      <td>K07418</td>\n",
       "      <td>cytochrome P450 family 2 subfamily J [EC:1.14.14.1 1.14.14.73 1.14.14.74 1.14.14.75]</td>\n",
       "      <td>   CDS \n",
       "\"1573\" \n",
       "</td>\n",
       "      <td>[1] \"(RefSeq) cytochrome P450 family 2 subfamily J member 2\"\n",
       "</td>\n",
       "       <td>...</td>\n",
       "      <td>[1] \"Arachidonate + Oxygen + NADPH + H+ <=> 8,9-EET + NADP+ + H2O\"\n",
       "</td>\n",
       "      <td>[1] \"1.14.14.1\" \"1.14.14.-\"\n",
       "</td>\n",
       "    </tr>\n",
       "    <tr>\n",
       "      <td class=\"rpy2_rowname\">3</td>\n",
       "        <td class=\"rpy2_names\">4</td>\n",
       "      <td>K07418</td>\n",
       "      <td>cytochrome P450 family 2 subfamily J [EC:1.14.14.1 1.14.14.73 1.14.14.74 1.14.14.75]</td>\n",
       "      <td>   CDS \n",
       "\"1573\" \n",
       "</td>\n",
       "      <td>[1] \"(RefSeq) cytochrome P450 family 2 subfamily J member 2\"\n",
       "</td>\n",
       "       <td>...</td>\n",
       "      <td>[1] \"Arachidonate + Oxygen + NADPH + H+ <=> 5,6-EET + NADP+ + H2O\"\n",
       "</td>\n",
       "      <td>[1] \"1.14.14.1\" \"1.14.14.-\"\n",
       "</td>\n",
       "    </tr>\n",
       "    <tr>\n",
       "      <td class=\"rpy2_rowname\">4</td>\n",
       "        <td class=\"rpy2_names\">5</td>\n",
       "      <td>K08726</td>\n",
       "      <td>soluble epoxide hydrolase / lipid-phosphate phosphatase [EC:3.3.2.10 3.1.3.76]</td>\n",
       "      <td>   CDS \n",
       "\"2053\" \n",
       "</td>\n",
       "      <td>[1] \"(RefSeq) epoxide hydrolase 2\"\n",
       "</td>\n",
       "       <td>...</td>\n",
       "      <td>[1] \"14,15-EET + H2O <=> 14,15-DHET\"\n",
       "</td>\n",
       "      <td>[1] \"3.3.2.10\"\n",
       "</td>\n",
       "    </tr>\n",
       "    <tr>\n",
       "      <td class=\"rpy2_rowname\">5</td>\n",
       "        <td class=\"rpy2_names\">6</td>\n",
       "      <td>K08726</td>\n",
       "      <td>soluble epoxide hydrolase / lipid-phosphate phosphatase [EC:3.3.2.10 3.1.3.76]</td>\n",
       "      <td>   CDS \n",
       "\"2053\" \n",
       "</td>\n",
       "      <td>[1] \"(RefSeq) epoxide hydrolase 2\"\n",
       "</td>\n",
       "       <td>...</td>\n",
       "      <td>[1] \"11,12-EET + H2O <=> 11,12-DHET\"\n",
       "</td>\n",
       "      <td>[1] \"3.3.2.10\"\n",
       "</td>\n",
       "    </tr>\n",
       "  </tbody>\n",
       "</table>"
      ],
      "text/plain": [
       "<rpy2.robjects.vectors.DataFrame object at 0x7fe884ff9600> [RTYPES.VECSXP]\n",
       "R classes: ('data.frame',)\n",
       "[StrSexpVe..., StrSexpVe..., ListSexpV..., ListSexpV..., ..., ListSexpV..., ListSexpV..., ListSexpV..., ListSexpV...]\n",
       "  orthology_id: <class 'rpy2.robjects.vectors.StrVector'>\n",
       "  <rpy2.robjects.vectors.StrVector object at 0x7fe87f3a2880> [RTYPES.STRSXP]\n",
       "R classes: ('character',)\n",
       "['K074..., 'K074..., 'K074..., 'K074..., 'K087..., 'K087...]\n",
       "  ORTHOLOGY: <class 'rpy2.robjects.vectors.StrVector'>\n",
       "  <rpy2.robjects.vectors.StrVector object at 0x7fe87f3dbc00> [RTYPES.STRSXP]\n",
       "R classes: ('character',)\n",
       "['cyto..., 'cyto..., 'cyto..., 'cyto..., 'solu..., 'solu...]\n",
       "<rpy2.robjects.vectors.DataFrame object at 0x7fe884ff9600> [RTYPES.VECSXP]\n",
       "R classes: ('data.frame',)\n",
       "[StrSexpVe..., StrSexpVe..., ListSexpV..., ListSexpV..., ..., ListSexpV..., ListSexpV..., ListSexpV..., ListSexpV...]\n",
       "<rpy2.robjects.vectors.DataFrame object at 0x7fe884ff9600> [RTYPES.VECSXP]\n",
       "R classes: ('data.frame',)\n",
       "[StrSexpVe..., StrSexpVe..., ListSexpV..., ListSexpV..., ..., ListSexpV..., ListSexpV..., ListSexpV..., ListSexpV...]\n",
       "...\n",
       "<rpy2.robjects.vectors.DataFrame object at 0x7fe884ff9600> [RTYPES.VECSXP]\n",
       "R classes: ('data.frame',)\n",
       "[StrSexpVe..., StrSexpVe..., ListSexpV..., ListSexpV..., ..., ListSexpV..., ListSexpV..., ListSexpV..., ListSexpV...]\n",
       "<rpy2.robjects.vectors.DataFrame object at 0x7fe884ff9600> [RTYPES.VECSXP]\n",
       "R classes: ('data.frame',)\n",
       "[StrSexpVe..., StrSexpVe..., ListSexpV..., ListSexpV..., ..., ListSexpV..., ListSexpV..., ListSexpV..., ListSexpV...]\n",
       "<rpy2.robjects.vectors.DataFrame object at 0x7fe884ff9600> [RTYPES.VECSXP]\n",
       "R classes: ('data.frame',)\n",
       "[StrSexpVe..., StrSexpVe..., ListSexpV..., ListSexpV..., ..., ListSexpV..., ListSexpV..., ListSexpV..., ListSexpV...]\n",
       "<rpy2.robjects.vectors.DataFrame object at 0x7fe884ff9600> [RTYPES.VECSXP]\n",
       "R classes: ('data.frame',)\n",
       "[StrSexpVe..., StrSexpVe..., ListSexpV..., ListSexpV..., ..., ListSexpV..., ListSexpV..., ListSexpV..., ListSexpV...]"
      ]
     },
     "execution_count": 178,
     "metadata": {},
     "output_type": "execute_result"
    }
   ],
   "source": [
    "robjects.r('''\n",
    "met_gene_info = enzyme_gene_info (metenrichment, studyOrg, metclassvar)\n",
    "head(met_gene_info)\n",
    "''')"
   ]
  },
  {
   "cell_type": "markdown",
   "id": "expressed-private",
   "metadata": {},
   "source": [
    "#### Get the information if metabolite is a reactant or substrate"
   ]
  },
  {
   "cell_type": "code",
   "execution_count": 179,
   "id": "instructional-sierra",
   "metadata": {},
   "outputs": [
    {
     "data": {
      "text/html": [
       "\n",
       "<emph>DataFrame</emph> with 6 rows and\n",
       "  18 columns:\n",
       "<table class=\"rpy2_table\">\n",
       "  <thead>\n",
       "    <tr class=\"rpy2_names\">\n",
       "      <th></th>\n",
       "      <th></th>\n",
       "      <th>orthology_id</th>\n",
       "      <th>ORTHOLOGY</th>\n",
       "      <th>gene_id</th>\n",
       "      <th>gene_name</th>\n",
       "      <th>...</th>\n",
       "      <th>ENZYME</th>\n",
       "      <th>reactant_product</th>\n",
       "    </tr>\n",
       "  </thead>\n",
       "  <tbody>\n",
       "    <tr>\n",
       "      <td class=\"rpy2_rowname\">0</td>\n",
       "        <td class=\"rpy2_names\">1</td>\n",
       "      <td>K07418</td>\n",
       "      <td>cytochrome P450 family 2 subfamily J [EC:1.14.14.1 1.14.14.73 1.14.14.74 1.14.14.75]</td>\n",
       "      <td>   CDS \n",
       "\"1573\" \n",
       "</td>\n",
       "      <td>[1] \"(RefSeq) cytochrome P450 family 2 subfamily J member 2\"\n",
       "</td>\n",
       "       <td>...</td>\n",
       "      <td>[1] \"1.14.14.1\" \"1.14.14.-\"\n",
       "</td>\n",
       "      <td>Product</td>\n",
       "    </tr>\n",
       "    <tr>\n",
       "      <td class=\"rpy2_rowname\">1</td>\n",
       "        <td class=\"rpy2_names\">2</td>\n",
       "      <td>K07418</td>\n",
       "      <td>cytochrome P450 family 2 subfamily J [EC:1.14.14.1 1.14.14.73 1.14.14.74 1.14.14.75]</td>\n",
       "      <td>   CDS \n",
       "\"1573\" \n",
       "</td>\n",
       "      <td>[1] \"(RefSeq) cytochrome P450 family 2 subfamily J member 2\"\n",
       "</td>\n",
       "       <td>...</td>\n",
       "      <td>[1] \"1.14.14.1\" \"1.14.14.-\"\n",
       "</td>\n",
       "      <td>Product</td>\n",
       "    </tr>\n",
       "    <tr>\n",
       "      <td class=\"rpy2_rowname\">2</td>\n",
       "        <td class=\"rpy2_names\">3</td>\n",
       "      <td>K07418</td>\n",
       "      <td>cytochrome P450 family 2 subfamily J [EC:1.14.14.1 1.14.14.73 1.14.14.74 1.14.14.75]</td>\n",
       "      <td>   CDS \n",
       "\"1573\" \n",
       "</td>\n",
       "      <td>[1] \"(RefSeq) cytochrome P450 family 2 subfamily J member 2\"\n",
       "</td>\n",
       "       <td>...</td>\n",
       "      <td>[1] \"1.14.14.1\" \"1.14.14.-\"\n",
       "</td>\n",
       "      <td>Product</td>\n",
       "    </tr>\n",
       "    <tr>\n",
       "      <td class=\"rpy2_rowname\">3</td>\n",
       "        <td class=\"rpy2_names\">4</td>\n",
       "      <td>K07418</td>\n",
       "      <td>cytochrome P450 family 2 subfamily J [EC:1.14.14.1 1.14.14.73 1.14.14.74 1.14.14.75]</td>\n",
       "      <td>   CDS \n",
       "\"1573\" \n",
       "</td>\n",
       "      <td>[1] \"(RefSeq) cytochrome P450 family 2 subfamily J member 2\"\n",
       "</td>\n",
       "       <td>...</td>\n",
       "      <td>[1] \"1.14.14.1\" \"1.14.14.-\"\n",
       "</td>\n",
       "      <td>Product</td>\n",
       "    </tr>\n",
       "    <tr>\n",
       "      <td class=\"rpy2_rowname\">4</td>\n",
       "        <td class=\"rpy2_names\">5</td>\n",
       "      <td>K08726</td>\n",
       "      <td>soluble epoxide hydrolase / lipid-phosphate phosphatase [EC:3.3.2.10 3.1.3.76]</td>\n",
       "      <td>   CDS \n",
       "\"2053\" \n",
       "</td>\n",
       "      <td>[1] \"(RefSeq) epoxide hydrolase 2\"\n",
       "</td>\n",
       "       <td>...</td>\n",
       "      <td>[1] \"3.3.2.10\"\n",
       "</td>\n",
       "      <td>Substrate</td>\n",
       "    </tr>\n",
       "    <tr>\n",
       "      <td class=\"rpy2_rowname\">5</td>\n",
       "        <td class=\"rpy2_names\">6</td>\n",
       "      <td>K08726</td>\n",
       "      <td>soluble epoxide hydrolase / lipid-phosphate phosphatase [EC:3.3.2.10 3.1.3.76]</td>\n",
       "      <td>   CDS \n",
       "\"2053\" \n",
       "</td>\n",
       "      <td>[1] \"(RefSeq) epoxide hydrolase 2\"\n",
       "</td>\n",
       "       <td>...</td>\n",
       "      <td>[1] \"3.3.2.10\"\n",
       "</td>\n",
       "      <td>Substrate</td>\n",
       "    </tr>\n",
       "  </tbody>\n",
       "</table>"
      ],
      "text/plain": [
       "<rpy2.robjects.vectors.DataFrame object at 0x7fe87f386940> [RTYPES.VECSXP]\n",
       "R classes: ('data.frame',)\n",
       "[StrSexpVe..., StrSexpVe..., ListSexpV..., ListSexpV..., ..., ListSexpV..., ListSexpV..., ListSexpV..., StrSexpVe...]\n",
       "  orthology_id: <class 'rpy2.robjects.vectors.StrVector'>\n",
       "  <rpy2.robjects.vectors.StrVector object at 0x7fe880dafec0> [RTYPES.STRSXP]\n",
       "R classes: ('character',)\n",
       "['K074..., 'K074..., 'K074..., 'K074..., 'K087..., 'K087...]\n",
       "  ORTHOLOGY: <class 'rpy2.robjects.vectors.StrVector'>\n",
       "  <rpy2.robjects.vectors.StrVector object at 0x7fe87f359f00> [RTYPES.STRSXP]\n",
       "R classes: ('character',)\n",
       "['cyto..., 'cyto..., 'cyto..., 'cyto..., 'solu..., 'solu...]\n",
       "<rpy2.robjects.vectors.DataFrame object at 0x7fe87f386940> [RTYPES.VECSXP]\n",
       "R classes: ('data.frame',)\n",
       "[StrSexpVe..., StrSexpVe..., ListSexpV..., ListSexpV..., ..., ListSexpV..., ListSexpV..., ListSexpV..., StrSexpVe...]\n",
       "<rpy2.robjects.vectors.DataFrame object at 0x7fe87f386940> [RTYPES.VECSXP]\n",
       "R classes: ('data.frame',)\n",
       "[StrSexpVe..., StrSexpVe..., ListSexpV..., ListSexpV..., ..., ListSexpV..., ListSexpV..., ListSexpV..., StrSexpVe...]\n",
       "...\n",
       "<rpy2.robjects.vectors.DataFrame object at 0x7fe87f386940> [RTYPES.VECSXP]\n",
       "R classes: ('data.frame',)\n",
       "[StrSexpVe..., StrSexpVe..., ListSexpV..., ListSexpV..., ..., ListSexpV..., ListSexpV..., ListSexpV..., StrSexpVe...]\n",
       "<rpy2.robjects.vectors.DataFrame object at 0x7fe87f386940> [RTYPES.VECSXP]\n",
       "R classes: ('data.frame',)\n",
       "[StrSexpVe..., StrSexpVe..., ListSexpV..., ListSexpV..., ..., ListSexpV..., ListSexpV..., ListSexpV..., StrSexpVe...]\n",
       "<rpy2.robjects.vectors.DataFrame object at 0x7fe87f386940> [RTYPES.VECSXP]\n",
       "R classes: ('data.frame',)\n",
       "[StrSexpVe..., StrSexpVe..., ListSexpV..., ListSexpV..., ..., ListSexpV..., ListSexpV..., ListSexpV..., StrSexpVe...]\n",
       "  rxn: <class 'rpy2.robjects.vectors.StrVector'>\n",
       "  <rpy2.robjects.vectors.StrVector object at 0x7fe87f326780> [RTYPES.STRSXP]\n",
       "R classes: ('character',)\n",
       "['Prod..., 'Prod..., 'Prod..., 'Prod..., 'Subs..., 'Subs...]"
      ]
     },
     "execution_count": 179,
     "metadata": {},
     "output_type": "execute_result"
    }
   ],
   "source": [
    "robjects.r('''\n",
    "rclass_info = react_substrate(met_gene_info)\n",
    "head(rclass_info)\n",
    "''')"
   ]
  },
  {
   "cell_type": "markdown",
   "id": "laden-curve",
   "metadata": {},
   "source": [
    "#### Get gene info in short form"
   ]
  },
  {
   "cell_type": "code",
   "execution_count": 180,
   "id": "still-seminar",
   "metadata": {},
   "outputs": [
    {
     "data": {
      "text/html": [
       "\n",
       "<emph>DataFrame</emph> with 4 rows and\n",
       "  18 columns:\n",
       "<table class=\"rpy2_table\">\n",
       "  <thead>\n",
       "    <tr class=\"rpy2_names\">\n",
       "      <th></th>\n",
       "      <th></th>\n",
       "      <th>Metabolite</th>\n",
       "      <th>orthology_id</th>\n",
       "      <th>ORTHOLOGY</th>\n",
       "      <th>gene_id</th>\n",
       "      <th>...</th>\n",
       "      <th>ENZYME</th>\n",
       "      <th>reactant_product</th>\n",
       "    </tr>\n",
       "  </thead>\n",
       "  <tbody>\n",
       "    <tr>\n",
       "      <td class=\"rpy2_rowname\">0</td>\n",
       "        <td class=\"rpy2_names\">1</td>\n",
       "      <td>11,12-EET</td>\n",
       "      <td>K07418, K08726, K17709, K17718, K17719</td>\n",
       "      <td>cytochrome P450 family 2 subfamily J [EC:1.14.14.1 1.14.14.73 1.14.14.74 1.14.14.75], soluble epoxide hydrolase / lipid-phosphate phosphatase [EC:3.3.2.10 3.1.3.76], cytochrome P450 family 2 subfamily B6 [EC:1.14.14.-], cytochrome P450 family 2 subfamily C8 [EC:1.14.14.1], cytochrome P450 family 2 subfamily C9 [EC:1.14.14.51 1.14.14.52 1.14.14.53 1.14.14.-]</td>\n",
       "      <td>1573, 2053, 1555, 1558, 1559</td>\n",
       "       <td>...</td>\n",
       "      <td>c(\"1.14.14.1\", \"1.14.14.-\"), 3.3.2.10</td>\n",
       "      <td>Product, Substrate</td>\n",
       "    </tr>\n",
       "    <tr>\n",
       "      <td class=\"rpy2_rowname\">1</td>\n",
       "        <td class=\"rpy2_names\">2</td>\n",
       "      <td>14,15-EET</td>\n",
       "      <td>K07418, K08726, K17709, K17718, K17719</td>\n",
       "      <td>cytochrome P450 family 2 subfamily J [EC:1.14.14.1 1.14.14.73 1.14.14.74 1.14.14.75], soluble epoxide hydrolase / lipid-phosphate phosphatase [EC:3.3.2.10 3.1.3.76], cytochrome P450 family 2 subfamily B6 [EC:1.14.14.-], cytochrome P450 family 2 subfamily C8 [EC:1.14.14.1], cytochrome P450 family 2 subfamily C9 [EC:1.14.14.51 1.14.14.52 1.14.14.53 1.14.14.-]</td>\n",
       "      <td>1573, 2053, 1555, 1558, 1559</td>\n",
       "       <td>...</td>\n",
       "      <td>c(\"1.14.14.1\", \"1.14.14.-\"), 3.3.2.10</td>\n",
       "      <td>Product, Substrate</td>\n",
       "    </tr>\n",
       "    <tr>\n",
       "      <td class=\"rpy2_rowname\">2</td>\n",
       "        <td class=\"rpy2_names\">3</td>\n",
       "      <td>8,9-EET</td>\n",
       "      <td>K07418, K08726, K17709, K17719</td>\n",
       "      <td>cytochrome P450 family 2 subfamily J [EC:1.14.14.1 1.14.14.73 1.14.14.74 1.14.14.75], soluble epoxide hydrolase / lipid-phosphate phosphatase [EC:3.3.2.10 3.1.3.76], cytochrome P450 family 2 subfamily B6 [EC:1.14.14.-], cytochrome P450 family 2 subfamily C9 [EC:1.14.14.51 1.14.14.52 1.14.14.53 1.14.14.-]</td>\n",
       "      <td>1573, 2053, 1555, 1559</td>\n",
       "       <td>...</td>\n",
       "      <td>c(\"1.14.14.1\", \"1.14.14.-\"), 3.3.2.10</td>\n",
       "      <td>Product, Substrate</td>\n",
       "    </tr>\n",
       "    <tr>\n",
       "      <td class=\"rpy2_rowname\">3</td>\n",
       "        <td class=\"rpy2_names\">4</td>\n",
       "      <td>5,6-EET</td>\n",
       "      <td>K07418, K08726, K17709</td>\n",
       "      <td>cytochrome P450 family 2 subfamily J [EC:1.14.14.1 1.14.14.73 1.14.14.74 1.14.14.75], soluble epoxide hydrolase / lipid-phosphate phosphatase [EC:3.3.2.10 3.1.3.76], cytochrome P450 family 2 subfamily B6 [EC:1.14.14.-]</td>\n",
       "      <td>1573, 2053, 1555</td>\n",
       "       <td>...</td>\n",
       "      <td>c(\"1.14.14.1\", \"1.14.14.-\"), 3.3.2.10</td>\n",
       "      <td>Product, Substrate</td>\n",
       "    </tr>\n",
       "  </tbody>\n",
       "</table>"
      ],
      "text/plain": [
       "<rpy2.robjects.vectors.DataFrame object at 0x7fe8853b3480> [RTYPES.VECSXP]\n",
       "R classes: ('data.table', 'data.frame')\n",
       "[StrSexpVe..., StrSexpVe..., StrSexpVe..., StrSexpVe..., ..., StrSexpVe..., StrSexpVe..., StrSexpVe..., StrSexpVe...]\n",
       "  Metabolite: <class 'rpy2.robjects.vectors.StrVector'>\n",
       "  <rpy2.robjects.vectors.StrVector object at 0x7fe880c26640> [RTYPES.STRSXP]\n",
       "R classes: ('character',)\n",
       "['11,12-EET', '14,15-EET', '8,9-EET', '5,6-EET']\n",
       "  orthology_id: <class 'rpy2.robjects.vectors.StrVector'>\n",
       "  <rpy2.robjects.vectors.StrVector object at 0x7fe87f31f840> [RTYPES.STRSXP]\n",
       "R classes: ('character',)\n",
       "['K07418, K..., 'K07418, K..., 'K07418, K..., 'K07418, K...]\n",
       "  ORTHOLOGY: <class 'rpy2.robjects.vectors.StrVector'>\n",
       "  <rpy2.robjects.vectors.StrVector object at 0x7fe87f322180> [RTYPES.STRSXP]\n",
       "R classes: ('character',)\n",
       "['cytochrom..., 'cytochrom..., 'cytochrom..., 'cytochrom...]\n",
       "  gene_id: <class 'rpy2.robjects.vectors.StrVector'>\n",
       "  <rpy2.robjects.vectors.StrVector object at 0x7fe880dae740> [RTYPES.STRSXP]\n",
       "R classes: ('character',)\n",
       "['1573, 205..., '1573, 205..., '1573, 205..., '1573, 205...]\n",
       "...\n",
       "  ORGANISM: <class 'rpy2.robjects.vectors.StrVector'>\n",
       "  <rpy2.robjects.vectors.StrVector object at 0x7fe87f3228c0> [RTYPES.STRSXP]\n",
       "R classes: ('character',)\n",
       "['C00219 + ..., 'C00219 + ..., 'C00219 + ..., 'C00219 + ...]\n",
       "  PATHWAY: <class 'rpy2.robjects.vectors.StrVector'>\n",
       "  <rpy2.robjects.vectors.StrVector object at 0x7fe87f3db7c0> [RTYPES.STRSXP]\n",
       "R classes: ('character',)\n",
       "['Arachidon..., 'Arachidon..., 'Arachidon..., 'Arachidon...]\n",
       "  DBLINKS: <class 'rpy2.robjects.vectors.StrVector'>\n",
       "  <rpy2.robjects.vectors.StrVector object at 0x7fe87f323040> [RTYPES.STRSXP]\n",
       "R classes: ('character',)\n",
       "['c(\"1.14.1..., 'c(\"1.14.1..., 'c(\"1.14.1..., 'c(\"1.14.1...]\n",
       "  MOTIF: <class 'rpy2.robjects.vectors.StrVector'>\n",
       "  <rpy2.robjects.vectors.StrVector object at 0x7fe87f323e40> [RTYPES.STRSXP]\n",
       "R classes: ('character',)\n",
       "['Product, ..., 'Product, ..., 'Product, ..., 'Product, ...]"
      ]
     },
     "execution_count": 180,
     "metadata": {},
     "output_type": "execute_result"
    }
   ],
   "source": [
    "robjects.r('''\n",
    "met_gene_info2=data.table::data.table(rclass_info)[,lapply(.SD, function(x) toString(unique(x))), by = 'Metabolite']\n",
    "''')"
   ]
  },
  {
   "cell_type": "code",
   "execution_count": null,
   "id": "copyrighted-voluntary",
   "metadata": {},
   "outputs": [],
   "source": []
  },
  {
   "cell_type": "code",
   "execution_count": null,
   "metadata": {},
   "outputs": [],
   "source": []
  }
 ],
 "metadata": {
  "kernelspec": {
   "display_name": "Python 3 (ipykernel)",
   "language": "python",
   "name": "python3"
  },
  "language_info": {
   "codemirror_mode": {
    "name": "ipython",
    "version": 3
   },
   "file_extension": ".py",
   "mimetype": "text/x-python",
   "name": "python",
   "nbconvert_exporter": "python",
   "pygments_lexer": "ipython3",
   "version": "3.9.7"
  }
 },
 "nbformat": 4,
 "nbformat_minor": 5
}
